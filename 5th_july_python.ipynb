{
 "cells": [
  {
   "cell_type": "code",
   "execution_count": 1,
   "id": "39006290-d6e6-45d9-97a5-0f0c7fd154a0",
   "metadata": {},
   "outputs": [],
   "source": [
    "#Q-1-Write a Python program to check if a given string is an anagram."
   ]
  },
  {
   "cell_type": "code",
   "execution_count": 2,
   "id": "ea965686-f954-478f-92ed-af46a9a1a03f",
   "metadata": {},
   "outputs": [
    {
     "name": "stdout",
     "output_type": "stream",
     "text": [
      "'listen' and 'silent' are anagrams.\n"
     ]
    }
   ],
   "source": [
    "#A-1-An anagram is a word or phrase formed by rearranging the letters of another word or phrase, typically using all \n",
    "#the original letters exactly once.\n",
    "def is_anagram(str1, str2):\n",
    "    # Remove spaces and convert the strings to lowercase to make the comparison case-insensitive\n",
    "    str1 = str1.replace(\" \", \"\").lower()\n",
    "    str2 = str2.replace(\" \", \"\").lower()\n",
    "\n",
    "    # Check if the lengths of the strings are different\n",
    "    if len(str1) != len(str2):\n",
    "        return False\n",
    "\n",
    "    # Sort the characters in each string and compare the sorted forms\n",
    "    return sorted(str1) == sorted(str2)\n",
    "\n",
    "if __name__ == \"__main__\":\n",
    "    # Test cases\n",
    "    input_str1 = \"listen\"\n",
    "    input_str2 = \"silent\"\n",
    "    if is_anagram(input_str1, input_str2):\n",
    "        print(f\"'{input_str1}' and '{input_str2}' are anagrams.\")\n",
    "    else:\n",
    "        print(f\"'{input_str1}' and '{input_str2}' are not anagrams.\")\n"
   ]
  },
  {
   "cell_type": "code",
   "execution_count": null,
   "id": "46034f88-cb5a-4227-9208-f8eee4c1cbe1",
   "metadata": {},
   "outputs": [],
   "source": [
    "#Q-2-Write a Python program to find the maximum and minimum values in a dictionary."
   ]
  },
  {
   "cell_type": "code",
   "execution_count": 3,
   "id": "bae3f9be-34a7-4289-82af-309957d8bc54",
   "metadata": {},
   "outputs": [
    {
     "name": "stdout",
     "output_type": "stream",
     "text": [
      "Dictionary: {'apple': 45, 'banana': 30, 'cherry': 70, 'date': 15, 'grape': 60}\n",
      "Maximum value: cherry\n",
      "Minimum value: date\n"
     ]
    }
   ],
   "source": [
    "#A-2-\n",
    "def find_max_and_min(dictionary):\n",
    "    if not dictionary:\n",
    "        return None, None\n",
    "\n",
    "    # Get the maximum and minimum values using the max() and min() functions with the 'key' parameter\n",
    "    max_value = max(dictionary, key=dictionary.get)\n",
    "    min_value = min(dictionary, key=dictionary.get)\n",
    "\n",
    "    return max_value, min_value\n",
    "\n",
    "if __name__ == \"__main__\":\n",
    "    # Test dictionary\n",
    "    my_dict = {\n",
    "        'apple': 45,\n",
    "        'banana': 30,\n",
    "        'cherry': 70,\n",
    "        'date': 15,\n",
    "        'grape': 60\n",
    "    }\n",
    "\n",
    "    max_val, min_val = find_max_and_min(my_dict)\n",
    "    print(\"Dictionary:\", my_dict)\n",
    "    print(\"Maximum value:\", max_val)\n",
    "    print(\"Minimum value:\", min_val)\n",
    "\n",
    "#the program defines a function find_max_and_min() that takes a dictionary as input and returns the keys corresponding to the\n",
    "#maximum and minimum values. We use the max() and min() functions, specifying dictionary.get as the key parameter to compare \n",
    "#the values of the dictionary items."
   ]
  },
  {
   "cell_type": "code",
   "execution_count": null,
   "id": "dafa644d-b851-4835-ac2a-b1dc088d8dc8",
   "metadata": {},
   "outputs": [],
   "source": [
    "#Q-3-Write a Python program to find the average of a list of numbers."
   ]
  },
  {
   "cell_type": "code",
   "execution_count": 4,
   "id": "b03ceac2-48a1-461e-a000-82e4c82fdf12",
   "metadata": {},
   "outputs": [
    {
     "name": "stdout",
     "output_type": "stream",
     "text": [
      "List: [10, 20, 30, 40, 50]\n",
      "Average: 30.0\n"
     ]
    }
   ],
   "source": [
    "#A-3-\n",
    "def find_average(numbers):\n",
    "    if not numbers:\n",
    "        return None\n",
    "\n",
    "    total_sum = sum(numbers)\n",
    "    average = total_sum / len(numbers)\n",
    "    return average\n",
    "\n",
    "if __name__ == \"__main__\":\n",
    "    # Test list of numbers\n",
    "    my_list = [10, 20, 30, 40, 50]\n",
    "\n",
    "    avg = find_average(my_list)\n",
    "    print(\"List:\", my_list)\n",
    "    print(\"Average:\", avg)\n",
    "\n",
    "#In this program, we define a function find_average() that takes a list of numbers as input and returns the average value. We\n",
    "#use the sum() function to calculate the sum of all elements in the list and then divide that sum by the length of the list to \n",
    "#get the average."
   ]
  },
  {
   "cell_type": "code",
   "execution_count": null,
   "id": "3fb60423-9694-4945-8d39-a1c946b74691",
   "metadata": {},
   "outputs": [],
   "source": [
    "#Q-4-Write a Python program to remove all vowels from a string."
   ]
  },
  {
   "cell_type": "code",
   "execution_count": 5,
   "id": "062fa78d-44f6-4eb2-93a8-6f99bc015ca5",
   "metadata": {},
   "outputs": [
    {
     "name": "stdout",
     "output_type": "stream",
     "text": [
      "Original string: Hello, World! This is a test string.\n",
      "String without vowels: Hll, Wrld! Ths s  tst strng.\n"
     ]
    }
   ],
   "source": [
    "#A-4-\n",
    "def remove_vowels(input_str):\n",
    "    vowels = \"aeiouAEIOU\"\n",
    "    result_str = ''.join(char for char in input_str if char not in vowels)\n",
    "    return result_str\n",
    "\n",
    "if __name__ == \"__main__\":\n",
    "    # Test string\n",
    "    my_string = \"Hello, World! This is a test string.\"\n",
    "\n",
    "    result = remove_vowels(my_string)\n",
    "    print(\"Original string:\", my_string)\n",
    "    print(\"String without vowels:\", result)\n",
    "    \n",
    "#the function remove_vowels() takes an input string and uses a list comprehension to iterate through each character of the \n",
    "#string. If the character is not present in the vowels string (which contains all the vowel characters), it is added to the \n",
    "#result_str. The join() function is then used to concatenate the characters in the result_str and form the final string \n",
    "#without vowels.\n"
   ]
  },
  {
   "cell_type": "code",
   "execution_count": null,
   "id": "dc70d851-eea1-4e29-bfb7-09828717bd86",
   "metadata": {},
   "outputs": [],
   "source": [
    "#Q-5-Write a Python function to calculate the factorial of a number using recursion."
   ]
  },
  {
   "cell_type": "code",
   "execution_count": 6,
   "id": "d9844494-eebe-49f3-bebf-e3f0f6b61f0f",
   "metadata": {},
   "outputs": [
    {
     "name": "stdout",
     "output_type": "stream",
     "text": [
      "The factorial of 5 is: 120\n"
     ]
    }
   ],
   "source": [
    "#A-5-\n",
    "def factorial_recursive(n):\n",
    "    if n == 0 or n == 1:\n",
    "        return 1\n",
    "    else:\n",
    "        return n * factorial_recursive(n - 1)\n",
    "\n",
    "if __name__ == \"__main__\":\n",
    "    # Test the function with some values\n",
    "    num = 5\n",
    "    print(f\"The factorial of {num} is: {factorial_recursive(num)}\")\n",
    "\n",
    "#the function factorial_recursive() takes an integer n as input and recursively calculates its factorial. If the input n is\n",
    "#0 or 1 (base case), the function returns 1. Otherwise, it returns the product of n and the result of calling the function \n",
    "#with n-1. The recursion will continue until it reaches the base case, providing the final factorial value.\n"
   ]
  },
  {
   "cell_type": "code",
   "execution_count": null,
   "id": "ca719bc8-f0e9-44c2-8294-0b9efd3a107c",
   "metadata": {},
   "outputs": [],
   "source": [
    "#Q-6-Write a Python program to merge two unsorted lists into a single sorted list using the merge sort algorithm."
   ]
  },
  {
   "cell_type": "code",
   "execution_count": 7,
   "id": "cee9a752-a419-4a95-b5bb-96ccb2b3e617",
   "metadata": {},
   "outputs": [
    {
     "name": "stdout",
     "output_type": "stream",
     "text": [
      "List 1: [4, 7, 1, 9, 2]\n",
      "List 2: [5, 3, 8, 6]\n",
      "Merged and sorted list: [1, 2, 3, 4, 5, 6, 7, 8, 9]\n"
     ]
    }
   ],
   "source": [
    "# A-6-To merge two unsorted lists into a single sorted list using the merge sort algorithm, we can follow these steps:\n",
    "# 1.Define a function for merge sort that recursively divides the input list into halves until each half contains only one \n",
    "# element.\n",
    "# 2.Merge the sorted halves back together to form a single sorted list.\n",
    "\n",
    "def merge_sort(arr):\n",
    "    if len(arr) <= 1:\n",
    "        return arr\n",
    "\n",
    "    mid = len(arr) // 2\n",
    "    left_half = merge_sort(arr[:mid])\n",
    "    right_half = merge_sort(arr[mid:])\n",
    "\n",
    "    return merge(left_half, right_half)\n",
    "\n",
    "def merge(left, right):\n",
    "    merged_list = []\n",
    "    left_index, right_index = 0, 0\n",
    "\n",
    "    while left_index < len(left) and right_index < len(right):\n",
    "        if left[left_index] < right[right_index]:\n",
    "            merged_list.append(left[left_index])\n",
    "            left_index += 1\n",
    "        else:\n",
    "            merged_list.append(right[right_index])\n",
    "            right_index += 1\n",
    "\n",
    "    merged_list.extend(left[left_index:])\n",
    "    merged_list.extend(right[right_index:])\n",
    "\n",
    "    return merged_list\n",
    "\n",
    "if __name__ == \"__main__\":\n",
    "    # Test lists\n",
    "    list1 = [4, 7, 1, 9, 2]\n",
    "    list2 = [5, 3, 8, 6]\n",
    "\n",
    "    merged_sorted_list = merge_sort(list1 + list2)\n",
    "    print(\"List 1:\", list1)\n",
    "    print(\"List 2:\", list2)\n",
    "    print(\"Merged and sorted list:\", merged_sorted_list)\n",
    "    \n",
    "# #In this program, we define the merge_sort() function, which recursively divides the input list into halves using the merge \n",
    "# sort algorithm. The merge() function is used to merge the sorted halves back together into a single sorted list. The\n",
    "# merge_sort() function is then called with the combined list of list1 and list2.\n"
   ]
  },
  {
   "cell_type": "code",
   "execution_count": null,
   "id": "018561b3-439c-427c-b9af-5539e32a77fc",
   "metadata": {},
   "outputs": [],
   "source": [
    "#Q-7-Write a Python program to find the GCD (Greatest Common Divisor) of two numbers."
   ]
  },
  {
   "cell_type": "code",
   "execution_count": 8,
   "id": "79908cae-cd87-408f-8e10-7712e6d1533d",
   "metadata": {},
   "outputs": [
    {
     "name": "stdout",
     "output_type": "stream",
     "text": [
      "The GCD of 84 and 36 is: 12\n"
     ]
    }
   ],
   "source": [
    "# #A-7-To find the Greatest Common Divisor (GCD) of two numbers, you can use the Euclidean algorithm. The algorithm \n",
    "# iteratively finds the remainder when dividing the larger number by the smaller number and then replaces the larger number\n",
    "# with the smaller number and the smaller number with the remainder. This process is repeated until the remainder becomes \n",
    "# zero, at which point the last non-zero number is the GCD.\n",
    "\n",
    "def gcd(a, b):\n",
    "    while b != 0:\n",
    "        a, b = b, a % b\n",
    "    return a\n",
    "\n",
    "if __name__ == \"__main__\":\n",
    "    # Test cases\n",
    "    num1 = 84\n",
    "    num2 = 36\n",
    "    result = gcd(num1, num2)\n",
    "    print(f\"The GCD of {num1} and {num2} is: {result}\")\n",
    "\n",
    "#In this program, the function gcd(a, b) takes two positive integers a and b as input and finds their GCD using the Euclidean\n",
    "# algorithm. The while loop continues until b becomes zero, and then the last non-zero value of a is the GCD."
   ]
  },
  {
   "cell_type": "code",
   "execution_count": null,
   "id": "970d5e24-a059-4293-b8b6-28645ae9bd7a",
   "metadata": {},
   "outputs": [],
   "source": [
    "#Q-8-Write a Python program to find the second-largest element in a list."
   ]
  },
  {
   "cell_type": "code",
   "execution_count": 9,
   "id": "5d469ac5-585d-4f88-be75-2e24c7fc1b43",
   "metadata": {},
   "outputs": [
    {
     "name": "stdout",
     "output_type": "stream",
     "text": [
      "List: [10, 5, 20, 15, 30]\n",
      "Second largest element: 20\n"
     ]
    }
   ],
   "source": [
    "#A-8-\n",
    "def find_second_largest(numbers):\n",
    "    if len(numbers) < 2:\n",
    "        return None\n",
    "\n",
    "    largest = second_largest = float('-inf')\n",
    "\n",
    "    for num in numbers:\n",
    "        if num > largest:\n",
    "            second_largest = largest\n",
    "            largest = num\n",
    "        elif num > second_largest and num != largest:\n",
    "            second_largest = num\n",
    "\n",
    "    return second_largest\n",
    "\n",
    "if __name__ == \"__main__\":\n",
    "    # Test list\n",
    "    my_list = [10, 5, 20, 15, 30]\n",
    "\n",
    "    second_largest_element = find_second_largest(my_list)\n",
    "    print(\"List:\", my_list)\n",
    "    if second_largest_element is not None:\n",
    "        print(\"Second largest element:\", second_largest_element)\n",
    "    else:\n",
    "        print(\"There is no second largest element in the list.\")\n",
    "\n",
    "# #In this program, the function find_second_largest() takes a list of numbers as input and iterates through the list, \n",
    "# updating the largest and second_largest variables accordingly. The largest element found so far is stored in the largest \n",
    "# variable,and the second-largest element found so far is stored in the second_largest variable. The function then returns \n",
    "# the second-largest element if it exists, or None if the list has less than two elements.\n"
   ]
  },
  {
   "cell_type": "code",
   "execution_count": null,
   "id": "a3c5d42d-3a45-49d8-a36e-52c618151886",
   "metadata": {},
   "outputs": [],
   "source": [
    "#Q-9-Write a Python program to find the longest common subsequence between two strings using dynamic programming."
   ]
  },
  {
   "cell_type": "code",
   "execution_count": 10,
   "id": "cfbfb984-7261-4e60-b806-2dfd4847d8a7",
   "metadata": {},
   "outputs": [
    {
     "name": "stdout",
     "output_type": "stream",
     "text": [
      "String 1: ABCDGH\n",
      "String 2: AEDFHR\n",
      "Longest Common Subsequence: ADH\n"
     ]
    }
   ],
   "source": [
    "# #A-9-To find the longest common subsequence (LCS) between two strings using dynamic programming, you can use a 2D table to \n",
    "# store the lengths of the common subsequences. The dynamic programming approach efficiently handles this problem by breaking \n",
    "# it down into smaller subproblems and using previously computed results to build the final solution.\n",
    "\n",
    "def longest_common_subsequence(str1, str2):\n",
    "    m = len(str1)\n",
    "    n = len(str2)\n",
    "\n",
    "    # Create a 2D table to store the lengths of the common subsequences\n",
    "    dp = [[0] * (n + 1) for _ in range(m + 1)]\n",
    "\n",
    "    # Fill the table using dynamic programming\n",
    "    for i in range(1, m + 1):\n",
    "        for j in range(1, n + 1):\n",
    "            if str1[i - 1] == str2[j - 1]:\n",
    "                dp[i][j] = dp[i - 1][j - 1] + 1\n",
    "            else:\n",
    "                dp[i][j] = max(dp[i - 1][j], dp[i][j - 1])\n",
    "\n",
    "    # Reconstruct the longest common subsequence\n",
    "    lcs = []\n",
    "    i, j = m, n\n",
    "    while i > 0 and j > 0:\n",
    "        if str1[i - 1] == str2[j - 1]:\n",
    "            lcs.append(str1[i - 1])\n",
    "            i -= 1\n",
    "            j -= 1\n",
    "        elif dp[i - 1][j] > dp[i][j - 1]:\n",
    "            i -= 1\n",
    "        else:\n",
    "            j -= 1\n",
    "\n",
    "    return ''.join(reversed(lcs))\n",
    "\n",
    "if __name__ == \"__main__\":\n",
    "    # Test strings\n",
    "    str1 = \"ABCDGH\"\n",
    "    str2 = \"AEDFHR\"\n",
    "\n",
    "    lcs = longest_common_subsequence(str1, str2)\n",
    "    print(\"String 1:\", str1)\n",
    "    print(\"String 2:\", str2)\n",
    "    print(\"Longest Common Subsequence:\", lcs)\n",
    "    \n",
    "    \n",
    "    \n",
    "# #In this program, the function longest_common_subsequence() takes two strings as input and returns their LCS using dynamic \n",
    "# programming. We create a 2D table dp to store the lengths of the common subsequences. We then fill the table using a nested\n",
    "# loop, and finally, we reconstruct the LCS using the filled table.\n"
   ]
  },
  {
   "cell_type": "code",
   "execution_count": null,
   "id": "ff7a1ceb-e566-443f-85e4-c4fb467669ad",
   "metadata": {},
   "outputs": [],
   "source": []
  },
  {
   "cell_type": "code",
   "execution_count": null,
   "id": "4b7746f5-c151-4d23-9e4d-bb7759a9918a",
   "metadata": {},
   "outputs": [],
   "source": []
  },
  {
   "cell_type": "code",
   "execution_count": null,
   "id": "403f4154-eea2-4a13-8af3-67c48cc2924e",
   "metadata": {},
   "outputs": [],
   "source": []
  },
  {
   "cell_type": "code",
   "execution_count": null,
   "id": "72d85862-8b56-4444-8537-858445142820",
   "metadata": {},
   "outputs": [],
   "source": []
  },
  {
   "cell_type": "code",
   "execution_count": null,
   "id": "3a7d30e5-0b62-4f43-a78a-34024fd63055",
   "metadata": {},
   "outputs": [],
   "source": []
  },
  {
   "cell_type": "code",
   "execution_count": null,
   "id": "7119528f-da7f-46f1-9a0b-8ae6dfb2536c",
   "metadata": {},
   "outputs": [],
   "source": []
  },
  {
   "cell_type": "code",
   "execution_count": null,
   "id": "080fb31c-74dc-48f2-ad50-18d3518b8181",
   "metadata": {},
   "outputs": [],
   "source": []
  },
  {
   "cell_type": "code",
   "execution_count": null,
   "id": "15673461-a6e2-4065-a276-1ccb20082594",
   "metadata": {},
   "outputs": [],
   "source": []
  },
  {
   "cell_type": "code",
   "execution_count": null,
   "id": "a638d94e-8844-41ba-a7c1-c2686c727c59",
   "metadata": {},
   "outputs": [],
   "source": []
  },
  {
   "cell_type": "code",
   "execution_count": null,
   "id": "9052d4e7-7504-4111-a56d-b6db7c2a1b8f",
   "metadata": {},
   "outputs": [],
   "source": []
  },
  {
   "cell_type": "code",
   "execution_count": null,
   "id": "defa762d-420f-4e0e-b204-5f3ebc0e3a3b",
   "metadata": {},
   "outputs": [],
   "source": []
  },
  {
   "cell_type": "code",
   "execution_count": null,
   "id": "5333583d-964a-4f7a-b3eb-a177b62b5198",
   "metadata": {},
   "outputs": [],
   "source": []
  }
 ],
 "metadata": {
  "kernelspec": {
   "display_name": "Python 3 (ipykernel)",
   "language": "python",
   "name": "python3"
  },
  "language_info": {
   "codemirror_mode": {
    "name": "ipython",
    "version": 3
   },
   "file_extension": ".py",
   "mimetype": "text/x-python",
   "name": "python",
   "nbconvert_exporter": "python",
   "pygments_lexer": "ipython3",
   "version": "3.10.6"
  }
 },
 "nbformat": 4,
 "nbformat_minor": 5
}
